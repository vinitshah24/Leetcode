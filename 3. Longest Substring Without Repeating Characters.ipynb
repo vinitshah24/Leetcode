{
 "cells": [
  {
   "cell_type": "markdown",
   "id": "63abac3b",
   "metadata": {},
   "source": [
    "## Given a string s, find the length of the longest substring without repeating characters.\n",
    "\n",
    "### Example 1:\n",
    "\n",
    "Input: s = \"abcabcbb\"\n",
    "Output: 3\n",
    "Explanation: The answer is \"abc\", with the length of 3.\n",
    "\n",
    "### Example 2:\n",
    "\n",
    "Input: s = \"bbbbb\"\n",
    "Output: 1\n",
    "Explanation: The answer is \"b\", with the length of 1.\n",
    "\n",
    "### Example 3:\n",
    "\n",
    "Input: s = \"pwwkew\"\n",
    "Output: 3\n",
    "Explanation: The answer is \"wke\", with the length of 3.\n",
    "Notice that the answer must be a substring, \"pwke\" is a subsequence and not a substring.\n",
    " \n",
    "\n",
    "## Constraints:\n",
    "\n",
    "0 <= s.length <= 5 * 104\n",
    "s consists of English letters, digits, symbols and spaces."
   ]
  },
  {
   "cell_type": "code",
   "execution_count": 1,
   "id": "f9b60e6b",
   "metadata": {},
   "outputs": [
    {
     "name": "stdout",
     "output_type": "stream",
     "text": [
      "a\n",
      "c\n"
     ]
    }
   ],
   "source": [
    "a = \"abcd\"\n",
    "print(a[0])\n",
    "print(a[2])"
   ]
  },
  {
   "cell_type": "code",
   "execution_count": 2,
   "id": "7a9e2d92",
   "metadata": {},
   "outputs": [],
   "source": [
    "def longestUniqueSubsttr(string):\n",
    "    # Creating a set to store the last positions of occurrence\n",
    "    seen = {}\n",
    "    maximum_length = 0\n",
    "    # starting the initial point of window to index 0\n",
    "    start = 0\n",
    "    for end in range(len(string)):\n",
    "        # Checking if we have already seen the element or not\n",
    "        if string[end] in seen:\n",
    "            # If we have seen the number, move the start pointer\n",
    "            # to position after the last occurrence\n",
    "            start = max(start, seen[string[end]] + 1)\n",
    "        # Updating the last seen value of the character\n",
    "        seen[string[end]] = end\n",
    "        maximum_length = max(maximum_length, end - start + 1)\n",
    "    return maximum_length"
   ]
  },
  {
   "cell_type": "code",
   "execution_count": 3,
   "id": "37d1a9c9",
   "metadata": {},
   "outputs": [],
   "source": [
    "def lengthOfLongestSubstring(s: str) -> int:\n",
    "    # Base condition\n",
    "    if s == \"\":\n",
    "        return 0\n",
    "    # Starting index of window\n",
    "    start = 0\n",
    "    # Ending index of window\n",
    "    end = 0\n",
    "    # Maximum length of substring without repeating characters\n",
    "    maxLength = 0\n",
    "    # Set to store unique characters\n",
    "    unique_characters = set()\n",
    "    # Loop for each character in the string\n",
    "    while end < len(s):\n",
    "        if s[end] not in unique_characters:\n",
    "            unique_characters.add(s[end])\n",
    "            end += 1\n",
    "            maxLength = max(maxLength, len(unique_characters))\n",
    "        else:\n",
    "            unique_characters.remove(s[start])\n",
    "            start += 1\n",
    "    return maxLength"
   ]
  },
  {
   "cell_type": "code",
   "execution_count": 4,
   "id": "6a86de3b",
   "metadata": {},
   "outputs": [],
   "source": [
    "def lengthOfLongestSubstring(s: str):\n",
    "    if len(s) == 1: return 1\n",
    "    str_dict = {}\n",
    "    longest_count = 0\n",
    "    running_count = 0\n",
    "    for index, word in enumerate(s):\n",
    "        if word in str_dict:\n",
    "            longest_count = max(longest_count, running_count)\n",
    "            str_dict = {}\n",
    "            running_count = 0\n",
    "        str_dict[word] = index\n",
    "        running_count += 1\n",
    "        longest_count = max(longest_count, running_count)\n",
    "    return longest_count"
   ]
  },
  {
   "cell_type": "code",
   "execution_count": 5,
   "id": "8f60af21",
   "metadata": {},
   "outputs": [],
   "source": [
    "def lengthOfLongestSubstring(s):\n",
    "    \"\"\" O(n^2) \"\"\"\n",
    "    max_len = 1\n",
    "    if s == \"\":\n",
    "        return 0\n",
    "    for i in range(len(s)):\n",
    "        substring = s[i]\n",
    "        for j in range(i + 1, len(s)):\n",
    "            if s[j] not in substring:\n",
    "                substring = substring + s[j]\n",
    "                max_len = max(max_len, len(substring))\n",
    "            break\n",
    "    return max_len"
   ]
  },
  {
   "cell_type": "code",
   "execution_count": 6,
   "id": "08778a21",
   "metadata": {},
   "outputs": [],
   "source": [
    "def lengthOfLongestSubstring(s):\n",
    "    if len(set(s)) == len(s):\n",
    "        return len(s)\n",
    "    substring = ''\n",
    "    maxLen = 1\n",
    "    for i in s:\n",
    "        # If given character is not in substring we are generating, we add it to the substring\n",
    "        if i not in substring:\n",
    "            substring = substring + i\n",
    "            # We update the maxlength if our substring is longer than the current max.\n",
    "            maxLen = max(maxLen, len(substring))\n",
    "        # Else, if the character is already part of the substring, we need to break the flow\n",
    "        else:\n",
    "            # And create a new substring from that point onwards and this new substring is build from the next character.\n",
    "            # Process repeats till the loop ends.\n",
    "            substring = substring.split(i)[1] + i\n",
    "    return maxLen"
   ]
  },
  {
   "cell_type": "code",
   "execution_count": 7,
   "id": "2aee970c",
   "metadata": {},
   "outputs": [
    {
     "data": {
      "text/plain": [
       "3"
      ]
     },
     "execution_count": 7,
     "metadata": {},
     "output_type": "execute_result"
    }
   ],
   "source": [
    "lengthOfLongestSubstring(\"abcabcbb\")"
   ]
  },
  {
   "cell_type": "code",
   "execution_count": 8,
   "id": "0f5c4379",
   "metadata": {},
   "outputs": [
    {
     "data": {
      "text/plain": [
       "1"
      ]
     },
     "execution_count": 8,
     "metadata": {},
     "output_type": "execute_result"
    }
   ],
   "source": [
    "lengthOfLongestSubstring(\"bbbbb\")"
   ]
  },
  {
   "cell_type": "code",
   "execution_count": 9,
   "id": "1c8010db",
   "metadata": {},
   "outputs": [
    {
     "data": {
      "text/plain": [
       "3"
      ]
     },
     "execution_count": 9,
     "metadata": {},
     "output_type": "execute_result"
    }
   ],
   "source": [
    "lengthOfLongestSubstring(\"pwwkew\")"
   ]
  },
  {
   "cell_type": "code",
   "execution_count": 10,
   "id": "5c5dc864",
   "metadata": {},
   "outputs": [
    {
     "data": {
      "text/plain": [
       "1"
      ]
     },
     "execution_count": 10,
     "metadata": {},
     "output_type": "execute_result"
    }
   ],
   "source": [
    "lengthOfLongestSubstring(\" \")"
   ]
  },
  {
   "cell_type": "code",
   "execution_count": 11,
   "id": "a6a05848",
   "metadata": {},
   "outputs": [
    {
     "data": {
      "text/plain": [
       "2"
      ]
     },
     "execution_count": 11,
     "metadata": {},
     "output_type": "execute_result"
    }
   ],
   "source": [
    "lengthOfLongestSubstring(\"au\")"
   ]
  },
  {
   "cell_type": "code",
   "execution_count": 12,
   "id": "07d5081e",
   "metadata": {},
   "outputs": [
    {
     "data": {
      "text/plain": [
       "7"
      ]
     },
     "execution_count": 12,
     "metadata": {},
     "output_type": "execute_result"
    }
   ],
   "source": [
    "lengthOfLongestSubstring(\"geeksforgeeks\")"
   ]
  },
  {
   "cell_type": "code",
   "execution_count": 13,
   "id": "b1b67cbc",
   "metadata": {},
   "outputs": [
    {
     "data": {
      "text/plain": [
       "3"
      ]
     },
     "execution_count": 13,
     "metadata": {},
     "output_type": "execute_result"
    }
   ],
   "source": [
    "lengthOfLongestSubstring(\"dvdf\")  # Should be 3 = vdf"
   ]
  },
  {
   "cell_type": "code",
   "execution_count": 14,
   "id": "9521faa0",
   "metadata": {},
   "outputs": [
    {
     "data": {
      "text/plain": [
       "3"
      ]
     },
     "execution_count": 14,
     "metadata": {},
     "output_type": "execute_result"
    }
   ],
   "source": [
    "def longestUniqueSubsttr(string):\n",
    "    # Creating a set to store the last positions of occurrence\n",
    "    seen = {}\n",
    "    maximum_length = 0\n",
    "    # starting the initial point of window to index 0\n",
    "    start = 0\n",
    "    for end in range(len(string)):\n",
    "        # Checking if we have already seen the element or not\n",
    "        if string[end] in seen:\n",
    "            # If we have seen the number, move the start pointer\n",
    "            # to position after the last occurrence\n",
    "            start = max(start, seen[string[end]] + 1)\n",
    "        # Updating the last seen value of the character\n",
    "        seen[string[end]] = end\n",
    "        maximum_length = max(maximum_length, end - start + 1)\n",
    "    return maximum_length\n",
    "\n",
    "\n",
    "longestUniqueSubsttr(\"dvdf\")"
   ]
  },
  {
   "cell_type": "code",
   "execution_count": null,
   "id": "82043c61",
   "metadata": {},
   "outputs": [],
   "source": []
  }
 ],
 "metadata": {
  "kernelspec": {
   "display_name": "Python 3",
   "language": "python",
   "name": "python3"
  },
  "language_info": {
   "codemirror_mode": {
    "name": "ipython",
    "version": 3
   },
   "file_extension": ".py",
   "mimetype": "text/x-python",
   "name": "python",
   "nbconvert_exporter": "python",
   "pygments_lexer": "ipython3",
   "version": "3.8.8"
  }
 },
 "nbformat": 4,
 "nbformat_minor": 5
}
