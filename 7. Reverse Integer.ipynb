{
 "cells": [
  {
   "cell_type": "markdown",
   "id": "f87d647a",
   "metadata": {},
   "source": [
    "## Given a signed 32-bit integer x, return x with its digits reversed. If reversing x causes the value to go outside the signed 32-bit integer range [-231, 231 - 1], then return 0.\n",
    "\n",
    "Assume the environment does not allow you to store 64-bit integers (signed or unsigned).\n",
    "\n",
    " \n",
    "\n",
    "## Example 1:\n",
    "```\n",
    "Input: x = 123\n",
    "Output: 321\n",
    "```\n",
    "\n",
    "## Example 2:\n",
    "```\n",
    "Input: x = -123\n",
    "Output: -321\n",
    "```\n",
    "\n",
    "## Example 3:\n",
    "```\n",
    "Input: x = 120\n",
    "Output: 21\n",
    "```\n",
    "\n",
    "## Constraints:\n",
    "\n",
    "-231 <= x <= 231 - 1"
   ]
  },
  {
   "cell_type": "code",
   "execution_count": 4,
   "id": "59d0dd45",
   "metadata": {},
   "outputs": [],
   "source": [
    "def reverse_integer(n):\n",
    "    y = str(abs(n)).strip()\n",
    "    y = y[::-1]\n",
    "    output = int(y)\n",
    "    if output >= 2**31 - 1 or output <= -2**31:\n",
    "        return 0\n",
    "    elif n < 0:\n",
    "        return -1 * output\n",
    "    else:\n",
    "        return output"
   ]
  },
  {
   "cell_type": "code",
   "execution_count": 5,
   "id": "5ba3592f",
   "metadata": {},
   "outputs": [
    {
     "name": "stdout",
     "output_type": "stream",
     "text": [
      "321\n",
      "-321\n",
      "21\n"
     ]
    }
   ],
   "source": [
    "print(reverse_integer(123))\n",
    "print(reverse_integer(-123))\n",
    "print(reverse_integer(120))"
   ]
  },
  {
   "cell_type": "code",
   "execution_count": null,
   "id": "f09a01ed",
   "metadata": {},
   "outputs": [],
   "source": []
  }
 ],
 "metadata": {
  "kernelspec": {
   "display_name": "Python 3",
   "language": "python",
   "name": "python3"
  },
  "language_info": {
   "codemirror_mode": {
    "name": "ipython",
    "version": 3
   },
   "file_extension": ".py",
   "mimetype": "text/x-python",
   "name": "python",
   "nbconvert_exporter": "python",
   "pygments_lexer": "ipython3",
   "version": "3.8.8"
  }
 },
 "nbformat": 4,
 "nbformat_minor": 5
}
