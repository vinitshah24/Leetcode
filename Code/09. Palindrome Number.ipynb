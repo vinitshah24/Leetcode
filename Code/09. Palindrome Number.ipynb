{
 "cells": [
  {
   "cell_type": "markdown",
   "id": "b9b5f26d",
   "metadata": {},
   "source": [
    "## Given an integer x, return true if x is palindrome integer.\n",
    "\n",
    "An integer is a palindrome when it reads the same backward as forward.\n",
    "\n",
    "For example, 121 is a palindrome while 123 is not.\n",
    " \n",
    "\n",
    "## Example 1:\n",
    "```python\n",
    "Input: x = 121\n",
    "Output: true\n",
    "Explanation: 121 reads as 121 from left to right and from right to left.\n",
    "```\n",
    "\n",
    "## Example 2:\n",
    "```python\n",
    "Input: x = -121\n",
    "Output: false\n",
    "Explanation: From left to right, it reads -121. From right to left, it becomes 121-. Therefore it is not a palindrome.\n",
    "```\n",
    "\n",
    "## Example 3:\n",
    "```python\n",
    "Input: x = 10\n",
    "Output: false\n",
    "Explanation: Reads 01 from right to left. Therefore it is not a palindrome.\n",
    "```\n",
    "\n",
    "## Constraints:\n",
    "```python\n",
    "-231 <= x <= 231 - 1\n",
    "```"
   ]
  },
  {
   "cell_type": "code",
   "execution_count": 14,
   "id": "e9441d88",
   "metadata": {},
   "outputs": [],
   "source": [
    "def is_palindrome(x: int) -> bool:\n",
    "    word = f\"{x}\"\n",
    "    start = 0\n",
    "    end = len(word) - 1\n",
    "    while start < len(word) and end > 0:\n",
    "        if word[start] != word[end]:\n",
    "            return False\n",
    "        start += 1\n",
    "        end -= 1\n",
    "    return True"
   ]
  },
  {
   "cell_type": "code",
   "execution_count": 16,
   "id": "47d6d2e9",
   "metadata": {},
   "outputs": [
    {
     "name": "stdout",
     "output_type": "stream",
     "text": [
      "False\n",
      "False\n",
      "True\n",
      "True\n"
     ]
    }
   ],
   "source": [
    "print(is_palindrome(10))\n",
    "print(is_palindrome(-121))\n",
    "print(is_palindrome(121))\n",
    "print(is_palindrome(23132))"
   ]
  },
  {
   "cell_type": "code",
   "execution_count": 18,
   "id": "db42e328",
   "metadata": {},
   "outputs": [],
   "source": [
    "def isPalindrome(x: int) -> bool:\n",
    "    x_string = str(x)\n",
    "    x_string_backwards = x_string[::-1]\n",
    "    if x_string == x_string_backwards:\n",
    "        return True\n",
    "    return False"
   ]
  },
  {
   "cell_type": "code",
   "execution_count": null,
   "id": "a859e436",
   "metadata": {},
   "outputs": [],
   "source": [
    "def isPalindrome(x: int) -> bool:\n",
    "    # If x is a negative number it is not a palindrome\n",
    "    # If x % 10 = 0, in order for it to be a palindrome the first digit should also be 0\n",
    "    if x < 0 or (x > 0 and x % 10 == 0):\n",
    "        return False\n",
    "    reversedNum = 0\n",
    "    while x > reversedNum:\n",
    "        reversedNum = reversedNum * 10 + x % 10\n",
    "        x = x // 10\n",
    "    # If x is equal to reversed number then it is a palindrome\n",
    "    # If x has odd number of digits, dicard the middle digit before comparing with x\n",
    "    # Example, if x = 23132, at the end of for loop x = 23 and reversedNum = 231\n",
    "    # So, reversedNum/10 = 23, which is equal to x\n",
    "    return True if (x == reversedNum or x == reversedNum // 10) else False"
   ]
  },
  {
   "cell_type": "code",
   "execution_count": 17,
   "id": "b16a1252",
   "metadata": {},
   "outputs": [
    {
     "name": "stdout",
     "output_type": "stream",
     "text": [
      "False\n",
      "False\n",
      "True\n",
      "True\n"
     ]
    }
   ],
   "source": [
    "print(is_palindrome(10))\n",
    "print(is_palindrome(-121))\n",
    "print(is_palindrome(121))\n",
    "print(is_palindrome(23132))"
   ]
  },
  {
   "cell_type": "code",
   "execution_count": null,
   "id": "6bdaaf1a",
   "metadata": {},
   "outputs": [],
   "source": []
  }
 ],
 "metadata": {
  "kernelspec": {
   "display_name": "Python 3",
   "language": "python",
   "name": "python3"
  },
  "language_info": {
   "codemirror_mode": {
    "name": "ipython",
    "version": 3
   },
   "file_extension": ".py",
   "mimetype": "text/x-python",
   "name": "python",
   "nbconvert_exporter": "python",
   "pygments_lexer": "ipython3",
   "version": "3.8.8"
  }
 },
 "nbformat": 4,
 "nbformat_minor": 5
}
