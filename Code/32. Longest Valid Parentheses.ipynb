{
 "cells": [
  {
   "attachments": {},
   "cell_type": "markdown",
   "id": "46139c41",
   "metadata": {},
   "source": [
    "## Given a string containing just the characters '(' and ')', find the length of the longest valid (well-formed) parentheses substring.\n",
    "\n",
    " \n",
    "## Example 1:\n",
    "```python\n",
    "Input: s = \"(()\"\n",
    "Output: 2\n",
    "Explanation: The longest valid parentheses substring is \"()\".\n",
    "```\n",
    "\n",
    "## Example 2:\n",
    "```python\n",
    "Input: s = \")()())\"\n",
    "Output: 4\n",
    "Explanation: The longest valid parentheses substring is \"()()\".\n",
    "```\n",
    "\n",
    "## Example 3:\n",
    "```python\n",
    "Input: s = \"\"\n",
    "Output: 0\n",
    "```\n",
    "\n",
    "Constraints:\n",
    "```python\n",
    "0 <= s.length <= 3 * 104\n",
    "s[i] is '(', or ')'\n",
    "```\n",
    "\n",
    "## Approach 3: Using Stack\n",
    "\n",
    "```java\n",
    "public class Solution {\n",
    "\n",
    "    public int longestValidParentheses(String s) {\n",
    "        int maxans = 0;\n",
    "        Stack<Integer> stack = new Stack<>();\n",
    "        stack.push(-1);\n",
    "        for (int i = 0; i < s.length(); i++) {\n",
    "            if (s.charAt(i) == '(') {\n",
    "                stack.push(i);\n",
    "            } else {\n",
    "                stack.pop();\n",
    "                if (stack.empty()) {\n",
    "                    stack.push(i);\n",
    "                } else {\n",
    "                    maxans = Math.max(maxans, i - stack.peek());\n",
    "                }\n",
    "            }\n",
    "        }\n",
    "        return maxans;\n",
    "    }\n",
    "}\n",
    "```"
   ]
  },
  {
   "cell_type": "code",
   "execution_count": 18,
   "id": "e9611e53",
   "metadata": {},
   "outputs": [],
   "source": [
    "def longestValidParentheses(s: str):\n",
    "    \"\"\"\n",
    "    Time complexity:  O(n). nn is the length of the given string.\n",
    "    Space complexity: O(n). The size of stack can go up to nn.\n",
    "    \"\"\"\n",
    "    max_val = 0\n",
    "    stack = [-1]\n",
    "    for i in range(len(s)):\n",
    "        # If starting (\n",
    "        if s[i] == \"(\":\n",
    "            stack.append(i)\n",
    "        else:\n",
    "            # If s[i] == \")\" pop the first element from the stack and calculate the max_val\n",
    "            stack.pop()\n",
    "            # If the stack is empty, add the position\n",
    "            if len(stack) == 0:\n",
    "                stack.append(i)\n",
    "            else:\n",
    "                # max val = max val - the top of the stack\n",
    "                max_val = max(max_val, i - stack[-1])\n",
    "    return max_val"
   ]
  },
  {
   "cell_type": "code",
   "execution_count": 19,
   "id": "13b43325",
   "metadata": {},
   "outputs": [
    {
     "data": {
      "text/plain": [
       "2"
      ]
     },
     "execution_count": 19,
     "metadata": {},
     "output_type": "execute_result"
    }
   ],
   "source": [
    "s = \"(()\"\n",
    "longestValidParentheses(s)"
   ]
  },
  {
   "cell_type": "code",
   "execution_count": 20,
   "id": "206dba08",
   "metadata": {},
   "outputs": [
    {
     "data": {
      "text/plain": [
       "4"
      ]
     },
     "execution_count": 20,
     "metadata": {},
     "output_type": "execute_result"
    }
   ],
   "source": [
    "s = \")()())\"\n",
    "longestValidParentheses(s)"
   ]
  },
  {
   "cell_type": "code",
   "execution_count": 21,
   "id": "04d5d47e",
   "metadata": {},
   "outputs": [
    {
     "data": {
      "text/plain": [
       "0"
      ]
     },
     "execution_count": 21,
     "metadata": {},
     "output_type": "execute_result"
    }
   ],
   "source": [
    "s = \"\"\n",
    "longestValidParentheses(s)"
   ]
  },
  {
   "cell_type": "markdown",
   "id": "4721c2b4",
   "metadata": {},
   "source": [
    "## Approach 4: Without extra space\n",
    "\n",
    "```java\n",
    "public class Solution {\n",
    "    public int longestValidParentheses(String s) {\n",
    "        int left = 0, right = 0, maxlength = 0;\n",
    "        for (int i = 0; i < s.length(); i++) {\n",
    "            if (s.charAt(i) == '(') {\n",
    "                left++;\n",
    "            } else {\n",
    "                right++;\n",
    "            }\n",
    "            if (left == right) {\n",
    "                maxlength = Math.max(maxlength, 2 * right);\n",
    "            } else if (right >= left) {\n",
    "                left = right = 0;\n",
    "            }\n",
    "        }\n",
    "        left = right = 0;\n",
    "        for (int i = s.length() - 1; i >= 0; i--) {\n",
    "            if (s.charAt(i) == '(') {\n",
    "                left++;\n",
    "            } else {\n",
    "                right++;\n",
    "            }\n",
    "            if (left == right) {\n",
    "                maxlength = Math.max(maxlength, 2 * left);\n",
    "            } else if (left >= right) {\n",
    "                left = right = 0;\n",
    "            }\n",
    "        }\n",
    "        return maxlength;\n",
    "    }\n",
    "}\n",
    "```\n",
    "\n",
    "```python\n",
    "Time complexity: O(n). Two traversals of the string.\n",
    "Space complexity: O(1). Only two extra variables left and right are needed.\n",
    "```"
   ]
  },
  {
   "cell_type": "code",
   "execution_count": null,
   "id": "ee0b3441",
   "metadata": {},
   "outputs": [],
   "source": []
  }
 ],
 "metadata": {
  "kernelspec": {
   "display_name": "Python 3",
   "language": "python",
   "name": "python3"
  },
  "language_info": {
   "codemirror_mode": {
    "name": "ipython",
    "version": 3
   },
   "file_extension": ".py",
   "mimetype": "text/x-python",
   "name": "python",
   "nbconvert_exporter": "python",
   "pygments_lexer": "ipython3",
   "version": "3.8.8"
  }
 },
 "nbformat": 4,
 "nbformat_minor": 5
}
