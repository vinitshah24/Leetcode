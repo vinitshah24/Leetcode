{
 "cells": [
  {
   "cell_type": "markdown",
   "id": "8ee1fe72",
   "metadata": {},
   "source": [
    "## Roman numerals are represented by seven different symbols: I, V, X, L, C, D and M.\n",
    "\n",
    "```python\n",
    "Symbol       Value\n",
    "I             1\n",
    "V             5\n",
    "X             10\n",
    "L             50\n",
    "C             100\n",
    "D             500\n",
    "M             1000\n",
    "```\n",
    "\n",
    "For example, 2 is written as II in Roman numeral, just two one's added together. 12 is written as XII, which is simply X + II. The number 27 is written as XXVII, which is XX + V + II.\n",
    "\n",
    "Roman numerals are usually written largest to smallest from left to right. However, the numeral for four is not IIII. Instead, the number four is written as IV. Because the one is before the five we subtract it making four. The same principle applies to the number nine, which is written as IX. There are six instances where subtraction is used:\n",
    "\n",
    "* I can be placed before V (5) and X (10) to make 4 and 9. \n",
    "* X can be placed before L (50) and C (100) to make 40 and 90. \n",
    "* C can be placed before D (500) and M (1000) to make 400 and 900.\n",
    "* Given a roman numeral, convert it to an integer.\n",
    "\n",
    " \n",
    "\n",
    "## Example 1:\n",
    "```python\n",
    "Input: s = \"III\"\n",
    "Output: 3\n",
    "Explanation: III = 3.\n",
    "```\n",
    "\n",
    "## Example 2:\n",
    "```python\n",
    "Input: s = \"LVIII\"\n",
    "Output: 58\n",
    "Explanation: L = 50, V= 5, III = 3.\n",
    "```\n",
    "\n",
    "## Example 3:\n",
    "```python\n",
    "Input: s = \"MCMXCIV\"\n",
    "Output: 1994\n",
    "Explanation: M = 1000, CM = 900, XC = 90 and IV = 4.\n",
    "```\n",
    "\n",
    "## Constraints:\n",
    "* 1 <= s.length <= 15\n",
    "* s contains only the characters ('I', 'V', 'X', 'L', 'C', 'D', 'M').\n",
    "* It is guaranteed that s is a valid roman numeral in the range [1, 3999]."
   ]
  },
  {
   "cell_type": "markdown",
   "id": "777c69d8",
   "metadata": {},
   "source": [
    "```python\n",
    "Symbol       Value\n",
    "I             1\n",
    "V             5\n",
    "X             10\n",
    "L             50\n",
    "C             100\n",
    "D             500\n",
    "M             1000\n",
    "\n",
    "MCMXCIV\n",
    "\n",
    "M CM XC IV\n",
    "1000 1000-100 100-10 5-1\n",
    "1000 + 900 + 90 + 4\n",
    "1994\n",
    "```"
   ]
  },
  {
   "cell_type": "code",
   "execution_count": 128,
   "id": "9dc409ea",
   "metadata": {},
   "outputs": [],
   "source": [
    "def romanToInt(s: str) -> int:\n",
    "    roman_to_num_dict = {\n",
    "        \"I\": 1,\n",
    "        \"V\": 5,\n",
    "        \"X\": 10,\n",
    "        \"L\": 50,\n",
    "        \"C\": 100,\n",
    "        \"D\": 500,\n",
    "        \"M\": 1000\n",
    "    }\n",
    "    total = 0\n",
    "    i = 0\n",
    "    while i < len(s):\n",
    "        if (i + 1) < len(s):\n",
    "            # MC\n",
    "            if roman_to_num_dict[s[i]] < roman_to_num_dict[s[i + 1]]:\n",
    "                total += roman_to_num_dict[s[i + 1]] - roman_to_num_dict[s[i]]\n",
    "                i += 2\n",
    "            # II => roman_to_num_dict[s[i]] >= roman_to_num_dict[s[i+1]]\n",
    "            else:\n",
    "                total += roman_to_num_dict[s[i]]\n",
    "                i += 1\n",
    "        # IV\n",
    "        else:\n",
    "            total += roman_to_num_dict[s[i]]\n",
    "            i += 1\n",
    "    return total"
   ]
  },
  {
   "cell_type": "code",
   "execution_count": 133,
   "id": "01c011db",
   "metadata": {},
   "outputs": [
    {
     "name": "stdout",
     "output_type": "stream",
     "text": [
      "1994\n",
      "58\n",
      "3\n"
     ]
    }
   ],
   "source": [
    "print(romanToInt(\"MCMXCIV\"))\n",
    "print(romanToInt(\"LVIII\"))\n",
    "print(romanToInt(\"III\"))"
   ]
  },
  {
   "cell_type": "code",
   "execution_count": 136,
   "id": "6e9e94f7",
   "metadata": {},
   "outputs": [],
   "source": [
    "def romanToInt(s: str) -> int:\n",
    "    roman_lst = {\n",
    "        \"I\": 1,\n",
    "        \"V\": 5,\n",
    "        \"X\": 10,\n",
    "        \"L\": 50,\n",
    "        \"C\": 100,\n",
    "        \"D\": 500,\n",
    "        \"M\": 1000\n",
    "    }\n",
    "    matches = {\n",
    "        \"IV\": 4, \n",
    "        \"IX\": 9, \n",
    "        \"XL\": 40, \n",
    "        \"XC\": 90, \n",
    "        \"CD\": 400, \n",
    "        \"CM\": 900\n",
    "    }\n",
    "    res = 0\n",
    "    i = 0\n",
    "    while i < len(s):\n",
    "        if s[i:i + 2] in matches:\n",
    "            res += matches[s[i:i + 2]]\n",
    "            i += 2\n",
    "\n",
    "        else:\n",
    "            res += roman_lst[s[i]]\n",
    "            i += 1\n",
    "    return res"
   ]
  },
  {
   "cell_type": "code",
   "execution_count": 137,
   "id": "79194c6f",
   "metadata": {},
   "outputs": [
    {
     "name": "stdout",
     "output_type": "stream",
     "text": [
      "1994\n",
      "58\n",
      "3\n"
     ]
    }
   ],
   "source": [
    "print(romanToInt(\"MCMXCIV\"))\n",
    "print(romanToInt(\"LVIII\"))\n",
    "print(romanToInt(\"III\"))"
   ]
  },
  {
   "cell_type": "code",
   "execution_count": null,
   "id": "3ee83a94",
   "metadata": {},
   "outputs": [],
   "source": []
  }
 ],
 "metadata": {
  "kernelspec": {
   "display_name": "Python 3",
   "language": "python",
   "name": "python3"
  },
  "language_info": {
   "codemirror_mode": {
    "name": "ipython",
    "version": 3
   },
   "file_extension": ".py",
   "mimetype": "text/x-python",
   "name": "python",
   "nbconvert_exporter": "python",
   "pygments_lexer": "ipython3",
   "version": "3.8.8"
  }
 },
 "nbformat": 4,
 "nbformat_minor": 5
}
