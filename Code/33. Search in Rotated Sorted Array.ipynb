{
 "cells": [
  {
   "cell_type": "markdown",
   "id": "4123d8f1",
   "metadata": {},
   "source": [
    "## There is an integer array nums sorted in ascending order (with distinct values).\n",
    "\n",
    "Prior to being passed to your function, nums is possibly rotated at an unknown pivot index k (1 <= k < nums.length) such that the resulting array is [nums[k], nums[k+1], ..., nums[n-1], nums[0], nums[1], ..., nums[k-1]] (0-indexed). For example, [0,1,2,4,5,6,7] might be rotated at pivot index 3 and become [4,5,6,7,0,1,2].\n",
    "\n",
    "Given the array nums after the possible rotation and an integer target, return the index of target if it is in nums, or -1 if it is not in nums.\n",
    "\n",
    "You must write an algorithm with O(log n) runtime complexity.\n",
    "\n",
    " \n",
    "\n",
    "## Example 1:\n",
    "```python\n",
    "Input: nums = [4,5,6,7,0,1,2], target = 0\n",
    "Output: 4\n",
    "```\n",
    "\n",
    "## Example 2:\n",
    "```python\n",
    "Input: nums = [4,5,6,7,0,1,2], target = 3\n",
    "Output: -1\n",
    "```\n",
    "\n",
    "## Example 3:\n",
    "```python\n",
    "Input: nums = [1], target = 0\n",
    "Output: -1\n",
    "```\n",
    "\n",
    "## Constraints:\n",
    "```python\n",
    "1 <= nums.length <= 5000\n",
    "-104 <= nums[i] <= 104\n",
    "All values of nums are unique.\n",
    "nums is an ascending array that is possibly rotated.\n",
    "-104 <= target <= 104\n",
    "```"
   ]
  },
  {
   "cell_type": "code",
   "execution_count": 6,
   "id": "0bca8761",
   "metadata": {},
   "outputs": [],
   "source": [
    "def rotateSea(nums, target, strt, end):\n",
    "    if strt > end:\n",
    "        return -1\n",
    "    mid = strt + (end - strt) // 2\n",
    "    # If the item is equal to mid value, return mid\n",
    "    if nums[mid] == target:\n",
    "        return mid\n",
    "    # If start value is less then equal to mid value\n",
    "    if nums[strt] <= nums[mid]:\n",
    "        # IF target val is in between start val to mid val\n",
    "        if nums[strt] <= target <= nums[mid]:\n",
    "            # Then reduce size from mid -1\n",
    "            return rotateSea(nums, target, strt, mid - 1)\n",
    "        else:\n",
    "            # Else If target val is greater than mid val then mid + 1\n",
    "            return rotateSea(nums, target, mid + 1, end)\n",
    "    if nums[mid] <= target <= nums[end]:\n",
    "        return rotateSea(nums, target, mid + 1, end)\n",
    "    else:\n",
    "        return rotateSea(nums, target, strt, mid - 1)\n",
    "    \n",
    "def search(nums, target):\n",
    "    return rotateSea(nums, target, 0, len(nums) - 1)"
   ]
  },
  {
   "cell_type": "code",
   "execution_count": null,
   "id": "71b052bf",
   "metadata": {},
   "outputs": [],
   "source": []
  }
 ],
 "metadata": {
  "kernelspec": {
   "display_name": "Python 3",
   "language": "python",
   "name": "python3"
  },
  "language_info": {
   "codemirror_mode": {
    "name": "ipython",
    "version": 3
   },
   "file_extension": ".py",
   "mimetype": "text/x-python",
   "name": "python",
   "nbconvert_exporter": "python",
   "pygments_lexer": "ipython3",
   "version": "3.8.8"
  }
 },
 "nbformat": 4,
 "nbformat_minor": 5
}
