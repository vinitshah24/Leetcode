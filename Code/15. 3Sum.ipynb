{
 "cells": [
  {
   "cell_type": "markdown",
   "id": "02d2dc6d",
   "metadata": {},
   "source": [
    "## Given an integer array nums, return all the triplets [nums[i], nums[j], nums[k]] such that i != j, i != k, and j != k, and nums[i] + nums[j] + nums[k] == 0.\n",
    "\n",
    "Notice that the solution set must not contain duplicate triplets.\n",
    "\n",
    "## Example 1:\n",
    "```python\n",
    "Input: nums = [-1,0,1,2,-1,-4]\n",
    "Output: [[-1,-1,2],[-1,0,1]]\n",
    "```\n",
    "## Example 2:\n",
    "```python\n",
    "Input: nums = []\n",
    "Output: []\n",
    "```\n",
    "## Example 3:\n",
    "```python\n",
    "Input: nums = [0]\n",
    "Output: []\n",
    "```\n",
    "\n",
    "## Constraints:\n",
    "```python\n",
    "0 <= nums.length <= 3000\n",
    "-105 <= nums[i] <= 105\n",
    "```"
   ]
  },
  {
   "cell_type": "code",
   "execution_count": 20,
   "id": "f07a59e7",
   "metadata": {},
   "outputs": [],
   "source": [
    "def threeSum(num_arr):\n",
    "    \"\"\"\n",
    "    TIme Complexity: O(nlogn) + O(n^2) =  O(n^2)\n",
    "    Space Complexity: O(1) or O(n)\n",
    "    \"\"\"\n",
    "    res = []\n",
    "    num_arr.sort()\n",
    "    for i, num in enumerate(num_arr):\n",
    "        # Skip the duplicate value if exists in the list\n",
    "        # Need i > 0 for first iteration when i=0\n",
    "        if i > 0 and num == num_arr[i - 1]:\n",
    "            continue\n",
    "        left = i + 1\n",
    "        right = len(num_arr) - 1\n",
    "        while left < right:\n",
    "            three_sum = num + num_arr[left] + num_arr[right]\n",
    "            if three_sum > 0:\n",
    "                right -= 1\n",
    "            elif three_sum < 0:\n",
    "                left += 1\n",
    "            else:\n",
    "                res.append([num, num_arr[left], num_arr[right]])\n",
    "                left += 1\n",
    "                # Now again check if the left is not same as right value, if so increase left pointer\n",
    "                while num_arr[left] == num_arr[left - 1] and left < right:\n",
    "                    left += 1\n",
    "    return res"
   ]
  },
  {
   "cell_type": "code",
   "execution_count": 21,
   "id": "3c97a70b",
   "metadata": {},
   "outputs": [
    {
     "name": "stdout",
     "output_type": "stream",
     "text": [
      "[[-1, -1, 2], [-1, 0, 1]]\n"
     ]
    }
   ],
   "source": [
    "nums = [-1,0,1,2,-1,-4]\n",
    "print(threeSum(nums))"
   ]
  },
  {
   "cell_type": "code",
   "execution_count": 22,
   "id": "b7d71426",
   "metadata": {},
   "outputs": [
    {
     "name": "stdout",
     "output_type": "stream",
     "text": [
      "[]\n"
     ]
    }
   ],
   "source": [
    "nums = []\n",
    "print(threeSum(nums))"
   ]
  },
  {
   "cell_type": "code",
   "execution_count": 23,
   "id": "dca4a3e6",
   "metadata": {},
   "outputs": [
    {
     "name": "stdout",
     "output_type": "stream",
     "text": [
      "[]\n"
     ]
    }
   ],
   "source": [
    "nums = [0]\n",
    "print(threeSum(nums))"
   ]
  },
  {
   "cell_type": "code",
   "execution_count": null,
   "id": "f7a19b0e",
   "metadata": {},
   "outputs": [],
   "source": []
  }
 ],
 "metadata": {
  "kernelspec": {
   "display_name": "Python 3",
   "language": "python",
   "name": "python3"
  },
  "language_info": {
   "codemirror_mode": {
    "name": "ipython",
    "version": 3
   },
   "file_extension": ".py",
   "mimetype": "text/x-python",
   "name": "python",
   "nbconvert_exporter": "python",
   "pygments_lexer": "ipython3",
   "version": "3.8.8"
  }
 },
 "nbformat": 4,
 "nbformat_minor": 5
}
