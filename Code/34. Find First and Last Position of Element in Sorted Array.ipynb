{
 "cells": [
  {
   "cell_type": "markdown",
   "id": "1b98577b",
   "metadata": {},
   "source": [
    "## Given an array of integers nums sorted in non-decreasing order, find the starting and ending position of a given target value.\n",
    "\n",
    "If target is not found in the array, return [-1, -1].\n",
    "\n",
    "You must write an algorithm with O(log n) runtime complexity.\n",
    "\n",
    " \n",
    "\n",
    "## Example 1:\n",
    "```python\n",
    "Input: nums = [5,7,7,8,8,10], target = 8\n",
    "Output: [3,4]\n",
    "```\n",
    "\n",
    "## Example 2:\n",
    "```python\n",
    "Input: nums = [5,7,7,8,8,10], target = 6\n",
    "Output: [-1,-1]\n",
    "```\n",
    "\n",
    "## Example 3:\n",
    "```python\n",
    "Input: nums = [], target = 0\n",
    "Output: [-1,-1]\n",
    "```\n",
    "\n",
    "## Constraints:\n",
    "```python\n",
    "0 <= nums.length <= 105\n",
    "-109 <= nums[i] <= 109\n",
    "nums is a non-decreasing array.\n",
    "-109 <= target <= 109\n",
    "```"
   ]
  },
  {
   "cell_type": "code",
   "execution_count": 5,
   "id": "a513c852",
   "metadata": {},
   "outputs": [],
   "source": [
    "def searchRange(nums, target):\n",
    "    def targetIndex(nums, target):\n",
    "        start, end = 0, len(nums) - 1\n",
    "        while start <= end:\n",
    "            pivot = start + (end - start) // 2\n",
    "            if nums[pivot] == target:\n",
    "                return pivot\n",
    "            if nums[pivot] > target:\n",
    "                end = pivot - 1\n",
    "            else:\n",
    "                start = pivot + 1\n",
    "        return -1\n",
    "\n",
    "    targetIndex = targetIndex(nums, target)\n",
    "\n",
    "    if targetIndex == -1:\n",
    "        return [-1, -1]\n",
    "\n",
    "    else:\n",
    "        start = end = targetIndex\n",
    "        while start >= 0:\n",
    "            if nums[start - 1] != nums[targetIndex]:\n",
    "                break\n",
    "            else:\n",
    "                start -= 1\n",
    "\n",
    "        while end < len(nums) - 1:\n",
    "            if nums[end + 1] != nums[targetIndex]:\n",
    "                break\n",
    "            else:\n",
    "                end += 1\n",
    "\n",
    "    return [0 if start < 0 else start, 0 if end < 0 else end]"
   ]
  },
  {
   "cell_type": "code",
   "execution_count": 6,
   "id": "20bd04eb",
   "metadata": {},
   "outputs": [
    {
     "data": {
      "text/plain": [
       "[3, 4]"
      ]
     },
     "execution_count": 6,
     "metadata": {},
     "output_type": "execute_result"
    }
   ],
   "source": [
    "nums = [5,7,7,8,8,10]\n",
    "target = 8\n",
    "searchRange(nums, target)"
   ]
  },
  {
   "cell_type": "code",
   "execution_count": 7,
   "id": "3a903a10",
   "metadata": {},
   "outputs": [
    {
     "data": {
      "text/plain": [
       "[-1, -1]"
      ]
     },
     "execution_count": 7,
     "metadata": {},
     "output_type": "execute_result"
    }
   ],
   "source": [
    "nums = [5,7,7,8,8,10]\n",
    "target = 6\n",
    "searchRange(nums, target)"
   ]
  },
  {
   "cell_type": "code",
   "execution_count": null,
   "id": "f366753f",
   "metadata": {},
   "outputs": [],
   "source": []
  }
 ],
 "metadata": {
  "kernelspec": {
   "display_name": "Python 3",
   "language": "python",
   "name": "python3"
  },
  "language_info": {
   "codemirror_mode": {
    "name": "ipython",
    "version": 3
   },
   "file_extension": ".py",
   "mimetype": "text/x-python",
   "name": "python",
   "nbconvert_exporter": "python",
   "pygments_lexer": "ipython3",
   "version": "3.8.8"
  }
 },
 "nbformat": 4,
 "nbformat_minor": 5
}
