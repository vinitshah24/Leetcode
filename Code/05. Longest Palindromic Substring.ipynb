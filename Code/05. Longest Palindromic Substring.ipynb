{
 "cells": [
  {
   "cell_type": "markdown",
   "id": "e3cef636",
   "metadata": {},
   "source": [
    "# Given a string s, return the longest palindromic substring in s.\n",
    "\n",
    "## Example 1:\n",
    "```python\n",
    "Input: s = \"babad\"\n",
    "Output: \"bab\"\n",
    "Explanation: \"aba\" is also a valid answer.\n",
    "```\n",
    "\n",
    "## Example 2:\n",
    "```python\n",
    "Input: s = \"cbbd\"\n",
    "Output: \"bb\"\n",
    "```\n",
    "## Constraints:\n",
    "```python\n",
    "1 <= s.length <= 1000\n",
    "s consist of only digits and English letters.\n",
    "```"
   ]
  },
  {
   "cell_type": "code",
   "execution_count": 1,
   "id": "35e4e4bc",
   "metadata": {},
   "outputs": [],
   "source": [
    "# BRUTE FORCE TIME = O(n^3)\n",
    "def longestPalindrome(s):\n",
    "    longest = \"\"\n",
    "    for i in range(len(s)):\n",
    "        for j in range(len(s), i, -1):\n",
    "            # Check if the substring equals the reversed substring\n",
    "            if s[i:j] == s[i:j][::-1]:\n",
    "                if len(longest) < len(s[i:j]):\n",
    "                    longest = s[i:j]\n",
    "    return longest"
   ]
  },
  {
   "cell_type": "code",
   "execution_count": 2,
   "id": "0daf74f1",
   "metadata": {},
   "outputs": [
    {
     "name": "stdout",
     "output_type": "stream",
     "text": [
      "bab\n",
      "bb\n",
      "a\n",
      "racecar\n"
     ]
    }
   ],
   "source": [
    "print(longestPalindrome(\"babad\"))\n",
    "print(longestPalindrome(\"cbbd\"))\n",
    "print(longestPalindrome(\"abca\"))\n",
    "print(longestPalindrome(\"racecar\"))"
   ]
  },
  {
   "cell_type": "code",
   "execution_count": 3,
   "id": "cef98303",
   "metadata": {},
   "outputs": [],
   "source": [
    "# TIME = O(n^2)\n",
    "def longest_palindrome(s: str) -> str:\n",
    "    if s is None or len(s) < 1:\n",
    "        return \"\"\n",
    "    start = 0\n",
    "    end = 0\n",
    "    for i in range(len(s)):\n",
    "        # Case like racecar where middle element is repeated once\n",
    "        len1 = expand_from_middle(s, i, i)\n",
    "        # Case like abba where middle element is repeated twice\n",
    "        len2 = expand_from_middle(s, i, i + 1)\n",
    "        max_len = max(len1, len2)\n",
    "        if max_len > end - start:\n",
    "            start = i - ((max_len - 1) // 2)\n",
    "            end = i + (max_len // 2)\n",
    "    return s[start:end + 1]\n",
    "\n",
    "\n",
    "def expand_from_middle(s, left, right):\n",
    "    if s is None or left > right:\n",
    "        return 0\n",
    "    while left >= 0 and right < len(s) and s[left] == s[right]:\n",
    "        left -= 1\n",
    "        right += 1\n",
    "    return right - left - 1"
   ]
  },
  {
   "cell_type": "code",
   "execution_count": 4,
   "id": "aada0801",
   "metadata": {
    "scrolled": false
   },
   "outputs": [
    {
     "name": "stdout",
     "output_type": "stream",
     "text": [
      "aba\n",
      "bb\n",
      "a\n",
      "racecar\n"
     ]
    }
   ],
   "source": [
    "print(longest_palindrome(\"babad\"))\n",
    "print(longest_palindrome(\"cbbd\"))\n",
    "print(longest_palindrome(\"abca\"))\n",
    "print(longest_palindrome(\"racecar\"))"
   ]
  },
  {
   "cell_type": "code",
   "execution_count": 5,
   "id": "9312e245",
   "metadata": {},
   "outputs": [
    {
     "data": {
      "text/plain": [
       "5"
      ]
     },
     "execution_count": 5,
     "metadata": {},
     "output_type": "execute_result"
    }
   ],
   "source": [
    "expand_from_middle(\"abcbad\", left=2, right=2)"
   ]
  },
  {
   "cell_type": "code",
   "execution_count": null,
   "id": "5e6d565b",
   "metadata": {},
   "outputs": [],
   "source": []
  }
 ],
 "metadata": {
  "kernelspec": {
   "display_name": "Python 3",
   "language": "python",
   "name": "python3"
  },
  "language_info": {
   "codemirror_mode": {
    "name": "ipython",
    "version": 3
   },
   "file_extension": ".py",
   "mimetype": "text/x-python",
   "name": "python",
   "nbconvert_exporter": "python",
   "pygments_lexer": "ipython3",
   "version": "3.8.8"
  }
 },
 "nbformat": 4,
 "nbformat_minor": 5
}
