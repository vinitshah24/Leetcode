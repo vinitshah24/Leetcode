{
 "cells": [
  {
   "attachments": {
    "image.png": {
     "image/png": "[encoded data removed]"
    }
   },
   "cell_type": "markdown",
   "id": "c8a4e92c",
   "metadata": {},
   "source": [
    "# 2. Add Two Numbers\n",
    "\n",
    "You are given two non-empty linked lists representing two non-negative integers. The digits are stored in reverse order, and each of their nodes contains a single digit. Add the two numbers and return the sum as a linked list.\n",
    "\n",
    "You may assume the two numbers do not contain any leading zero, except the number 0 itself.\n",
    "\n",
    " ![image.png](attachment:image.png)\n",
    "\n",
    "## Example 1:\n",
    "\n",
    "```\n",
    "Input: l1 = [2,4,3], l2 = [5,6,4]\n",
    "Output: [7,0,8]\n",
    "Explanation: 342 + 465 = 807.\n",
    "```\n",
    "## Example 2:\n",
    "```\n",
    "Input: l1 = [0], l2 = [0]\n",
    "Output: [0]\n",
    "```\n",
    "## Example 3:\n",
    "```\n",
    "Input: l1 = [9,9,9,9,9,9,9], l2 = [9,9,9,9]\n",
    "Output: [8,9,9,9,0,0,0,1]\n",
    "```\n",
    "\n",
    "## Constraints:\n",
    "\n",
    "The number of nodes in each linked list is in the range [1, 100].\n",
    "0 <= Node.val <= 9\n",
    "It is guaranteed that the list represents a number that does not have leading zeros."
   ]
  },
  {
   "cell_type": "code",
   "execution_count": 1,
   "id": "8a02b376",
   "metadata": {},
   "outputs": [
    {
     "name": "stdout",
     "output_type": "stream",
     "text": [
      "2\n",
      "1\n"
     ]
    }
   ],
   "source": [
    "a = 12\n",
    "print(a % 10)\n",
    "print(int(a / 10))"
   ]
  },
  {
   "cell_type": "code",
   "execution_count": 2,
   "id": "8d061132",
   "metadata": {},
   "outputs": [],
   "source": [
    "class Node:\n",
    "    def __init__(self, val=0, next=None):\n",
    "        self.value = val\n",
    "        self.next = next\n",
    "        \n",
    "class LinkedList:\n",
    "    def __init__(self):\n",
    "        self.head = None\n",
    "        \n",
    "    def display(self):\n",
    "        value_list = []\n",
    "        cur_node = self.head\n",
    "        while cur_node:\n",
    "            value_list.append(cur_node.value)\n",
    "            cur_node = cur_node.next\n",
    "        print(value_list)\n",
    "        \n",
    "    def get_list(self):\n",
    "        value_list = []\n",
    "        cur_node = self.head\n",
    "        while cur_node:\n",
    "            value_list.append(cur_node.value)\n",
    "            cur_node = cur_node.next\n",
    "        return value_list\n",
    "        \n",
    "    def append(self, value):\n",
    "        # If the head is empty then set the new node\n",
    "        if self.head is None:\n",
    "            self.head = Node(value)\n",
    "            return\n",
    "        # Append to the end of the linked list\n",
    "        new_node = Node(value)\n",
    "        cur = self.head\n",
    "        while cur.next is not None:\n",
    "            cur = cur.next\n",
    "        cur.next = new_node"
   ]
  },
  {
   "cell_type": "code",
   "execution_count": 3,
   "id": "af1e39ac",
   "metadata": {},
   "outputs": [],
   "source": [
    "def addTwoNumbers(l1, l2):\n",
    "    main = LinkedList()\n",
    "    curr_l1 = l1.head\n",
    "    curr_l2 = l2.head\n",
    "    remainder = 0\n",
    "    while curr_l1 is not None and curr_l2 is not None:\n",
    "        sum = curr_l1.value + curr_l2.value\n",
    "        data = int(sum + remainder) % 10\n",
    "        remainder = int(int(sum + remainder) / 10)\n",
    "        main.append(data)\n",
    "        curr_l1 = curr_l1.next\n",
    "        curr_l2 = curr_l2.next\n",
    "    while curr_l1 is not None:\n",
    "        if curr_l2 is not None:\n",
    "            sum = curr_l1.value + curr_l2.value\n",
    "        else:\n",
    "            sum = curr_l1.value\n",
    "        data = int(sum + remainder) % 10\n",
    "        remainder = int(int(sum + remainder) / 10)\n",
    "        main.append(data)\n",
    "        curr_l1 = curr_l1.next\n",
    "    while curr_l2 is not None:\n",
    "        if curr_l1 is not None:\n",
    "            sum = curr_l1.value + curr_l2.value\n",
    "        else:\n",
    "            sum = curr_l2.value\n",
    "        data = int(sum + remainder) % 10\n",
    "        remainder = int(int(sum + remainder) / 10)\n",
    "        main.append(data)\n",
    "        curr_l2 = curr_l2.next\n",
    "    main.append(remainder)\n",
    "    return main.get_list()"
   ]
  },
  {
   "cell_type": "code",
   "execution_count": 4,
   "id": "e3285e5b",
   "metadata": {},
   "outputs": [
    {
     "name": "stdout",
     "output_type": "stream",
     "text": [
      "[7, 0, 8, 0]\n"
     ]
    }
   ],
   "source": [
    "# l1 = [2,4,3]\n",
    "# l2 = [5,6,4]\n",
    "# [7,0,8]\n",
    "\n",
    "a = Node(2)\n",
    "b = Node(4)\n",
    "c = Node(3)\n",
    "l1 = LinkedList()\n",
    "l1.head = a\n",
    "a.next = b\n",
    "b.next = c\n",
    "\n",
    "d = Node(5)\n",
    "e = Node(6)\n",
    "f = Node(4)\n",
    "l2 = LinkedList()\n",
    "l2.head = d\n",
    "d.next = e\n",
    "e.next = f\n",
    "\n",
    "print(addTwoNumbers(l1, l2))"
   ]
  },
  {
   "cell_type": "code",
   "execution_count": 5,
   "id": "b6c1882e",
   "metadata": {},
   "outputs": [
    {
     "name": "stdout",
     "output_type": "stream",
     "text": [
      "[0, 0]\n"
     ]
    }
   ],
   "source": [
    "a = Node(0)\n",
    "b = Node(0)\n",
    "l1 = LinkedList()\n",
    "l1.head = a\n",
    "l2 = LinkedList()\n",
    "l2.head = b\n",
    "print(addTwoNumbers(l1, l2))"
   ]
  },
  {
   "cell_type": "code",
   "execution_count": 6,
   "id": "e6f2eec5",
   "metadata": {},
   "outputs": [
    {
     "name": "stdout",
     "output_type": "stream",
     "text": [
      "[9, 9, 9, 9, 9, 9, 9]\n",
      "[9, 9, 9, 9]\n",
      "[8, 9, 9, 9, 0, 0, 0, 1]\n"
     ]
    }
   ],
   "source": [
    "# l1 = [9,9,9,9,9,9,9]\n",
    "# l2 = [9,9,9,9]\n",
    "# [8,9,9,9,0,0,0,1]\n",
    "\n",
    "l1 = LinkedList()\n",
    "l1.append(9)\n",
    "l1.append(9)\n",
    "l1.append(9)\n",
    "l1.append(9)\n",
    "l1.append(9)\n",
    "l1.append(9)\n",
    "l1.append(9)\n",
    "l1.display()\n",
    "\n",
    "l2 = LinkedList()\n",
    "l2.append(9)\n",
    "l2.append(9)\n",
    "l2.append(9)\n",
    "l2.append(9)\n",
    "l2.display()\n",
    "\n",
    "print(addTwoNumbers(l1, l2))"
   ]
  },
  {
   "cell_type": "markdown",
   "id": "9ed39a4a",
   "metadata": {},
   "source": [
    "## ListNode"
   ]
  },
  {
   "cell_type": "code",
   "execution_count": 7,
   "id": "e536b899",
   "metadata": {},
   "outputs": [],
   "source": [
    "class ListNode:\n",
    "    def __init__(self, val=0, next=None):\n",
    "        self.val = val\n",
    "        self.next = next"
   ]
  },
  {
   "cell_type": "code",
   "execution_count": 10,
   "id": "a0172913",
   "metadata": {},
   "outputs": [],
   "source": [
    "def addTwoNumbers(l1, l2):\n",
    "    head = None\n",
    "    temp = None\n",
    "    carry = 0\n",
    "    # Loop for the two lists\n",
    "    while l1 is not None or l2 is not None:\n",
    "        # At the start of each iteration, we should add carry from the last iteration\n",
    "        sum_value = carry\n",
    "        # Since the lengths of the lists may be unequal, we are checking if the\n",
    "        # current node is null for one of the lists\n",
    "        if l1 is not None:\n",
    "            sum_value += l1.val\n",
    "            l1 = l1.next\n",
    "        if l2 is not None:\n",
    "            sum_value += l2.val\n",
    "            l2 = l2.next\n",
    "        # At this point, we will add the total sum_value % 10 to the new node\n",
    "        # in the resultant list\n",
    "        node = ListNode(sum_value % 10)\n",
    "        # Carry to be added in the next iteration\n",
    "        carry = sum_value // 10\n",
    "        # If this is the first node or head\n",
    "        if temp is None:\n",
    "            temp = head = node\n",
    "        # for any other node\n",
    "        else:\n",
    "            temp.next = node\n",
    "            temp = temp.next\n",
    "    # After the last iteration, we will check if there is carry left\n",
    "    # If it's left then we will create a new node and add it\n",
    "    if carry > 0:\n",
    "        temp.next = ListNode(carry)\n",
    "    return head"
   ]
  },
  {
   "cell_type": "markdown",
   "id": "93d15c67",
   "metadata": {},
   "source": [
    "```java\n",
    "class Solution {\n",
    "public ListNode addTwoNumbers(ListNode node1, ListNode node2) {\n",
    "        ListNode result = new ListNode(0);\n",
    "        ListNode prev = result;\n",
    "        int carryOut = 0;\n",
    "        while (node1 != null || node2 != null) {\n",
    "            int node2Value = 0;\n",
    "            if (node2 != null) {\n",
    "                node2Value = node2.val;\n",
    "                node2 = node2.next;\n",
    "            }\n",
    "            int node1Value = 0;\n",
    "            if (node1 != null) {\n",
    "                node1Value = node1.val;\n",
    "                node1 = node1.next;\n",
    "            }\n",
    "            int value = node1Value + node2Value + carryOut;\n",
    "            carryOut = value / 10;\n",
    "            value = value % 10;\n",
    "            prev.next = new ListNode(value);\n",
    "            prev = prev.next;\n",
    "        }\n",
    "        if (carryOut != 0) {\n",
    "            prev.next = new ListNode(carryOut);\n",
    "        }\n",
    "        return result.next;\n",
    "    }\n",
    "}\n",
    "```"
   ]
  },
  {
   "cell_type": "code",
   "execution_count": null,
   "id": "e8dee6d6",
   "metadata": {},
   "outputs": [],
   "source": []
  }
 ],
 "metadata": {
  "kernelspec": {
   "display_name": "Python 3",
   "language": "python",
   "name": "python3"
  },
  "language_info": {
   "codemirror_mode": {
    "name": "ipython",
    "version": 3
   },
   "file_extension": ".py",
   "mimetype": "text/x-python",
   "name": "python",
   "nbconvert_exporter": "python",
   "pygments_lexer": "ipython3",
   "version": "3.8.8"
  }
 },
 "nbformat": 4,
 "nbformat_minor": 5
}
