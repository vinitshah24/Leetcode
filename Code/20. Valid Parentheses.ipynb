{
 "cells": [
  {
   "cell_type": "markdown",
   "id": "4a7d1183",
   "metadata": {},
   "source": [
    "## Given a string s containing just the characters '(', ')', '{', '}', '[' and ']', determine if the input string is valid.\n",
    "\n",
    "An input string is valid if:\n",
    "\n",
    "* Open brackets must be closed by the same type of brackets.\n",
    "* Open brackets must be closed in the correct order.\n",
    " \n",
    "\n",
    "## Example 1:\n",
    "```python\n",
    "Input: s = \"()\"\n",
    "Output: true\n",
    "```\n",
    "\n",
    "## Example 2:\n",
    "```python\n",
    "Input: s = \"()[]{}\"\n",
    "Output: true\n",
    "```\n",
    "\n",
    "## Example 3:\n",
    "```python\n",
    "Input: s = \"(]\"\n",
    "Output: false\n",
    "```\n",
    "\n",
    "## Constraints:\n",
    "```python\n",
    "1 <= s.length <= 104\n",
    "s consists of parentheses only '()[]{}'\n",
    "```"
   ]
  },
  {
   "cell_type": "code",
   "execution_count": 1,
   "id": "71a76584",
   "metadata": {},
   "outputs": [],
   "source": [
    "def isValid(s: str) -> bool:\n",
    "    par_dict = {\n",
    "        ')': '(', \n",
    "        ']': '[', \n",
    "        '}': '{'\n",
    "    }\n",
    "    stack = []\n",
    "    # we now check each character in the string\n",
    "    for c in s:\n",
    "        # if we find an open bracket, add it into stack\n",
    "        if c in \"([{\":\n",
    "            stack.append(c)\n",
    "        # if we find a close bracket:\n",
    "        if c in \")]}\":\n",
    "            # check if our stack is not empty and the last open bracket is the same type\n",
    "            # return False in invalid cases\n",
    "            # pop to remove the last item from the stack, thus effectively \"close\" the bracket\n",
    "            if not stack or par_dict[c] != stack.pop():\n",
    "                return False\n",
    "    # now, we check if we have any open brackets left\n",
    "    return not brackets"
   ]
  },
  {
   "cell_type": "code",
   "execution_count": 6,
   "id": "368381dd",
   "metadata": {},
   "outputs": [],
   "source": [
    "def isValid(s: str) -> bool:\n",
    "    stack = []\n",
    "    res = {\n",
    "        '(':')', \n",
    "        '{': '}', \n",
    "        '[': ']'\n",
    "    }\n",
    "    for i in s:\n",
    "        if i in res:\n",
    "            stack.append(i)\n",
    "            continue\n",
    "        else:\n",
    "            if stack and i == res[stack.pop()]:\n",
    "                continue\n",
    "            else:\n",
    "                return False\n",
    "    return len(stack) == 0"
   ]
  },
  {
   "cell_type": "code",
   "execution_count": 7,
   "id": "edc830ff",
   "metadata": {},
   "outputs": [
    {
     "name": "stdout",
     "output_type": "stream",
     "text": [
      "True\n",
      "False\n",
      "True\n"
     ]
    }
   ],
   "source": [
    "s= \"()\"\n",
    "print(isValid(s))\n",
    "\n",
    "s = \"(]\"\n",
    "print(isValid(s))\n",
    "\n",
    "s = \"()[]{}\"\n",
    "print(isValid(s))"
   ]
  },
  {
   "cell_type": "code",
   "execution_count": null,
   "id": "f5893393",
   "metadata": {},
   "outputs": [],
   "source": []
  }
 ],
 "metadata": {
  "kernelspec": {
   "display_name": "Python 3",
   "language": "python",
   "name": "python3"
  },
  "language_info": {
   "codemirror_mode": {
    "name": "ipython",
    "version": 3
   },
   "file_extension": ".py",
   "mimetype": "text/x-python",
   "name": "python",
   "nbconvert_exporter": "python",
   "pygments_lexer": "ipython3",
   "version": "3.8.8"
  }
 },
 "nbformat": 4,
 "nbformat_minor": 5
}
