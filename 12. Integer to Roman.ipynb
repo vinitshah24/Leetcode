{
 "cells": [
  {
   "cell_type": "markdown",
   "id": "19086991",
   "metadata": {},
   "source": [
    "## Roman numerals are represented by seven different symbols: I, V, X, L, C, D and M.\n",
    "\n",
    "```\n",
    "Symbol       Value\n",
    "I             1\n",
    "V             5\n",
    "X             10\n",
    "L             50\n",
    "C             100\n",
    "D             500\n",
    "M             1000\n",
    "```\n",
    "For example, 2 is written as II in Roman numeral, just two one's added together. 12 is written as XII, which is simply X + II. The number 27 is written as XXVII, which is XX + V + II.\n",
    "\n",
    "Roman numerals are usually written largest to smallest from left to right. However, the numeral for four is not IIII. Instead, the number four is written as IV. Because the one is before the five we subtract it making four. The same principle applies to the number nine, which is written as IX. There are six instances where subtraction is used:\n",
    "\n",
    "* I can be placed before V (5) and X (10) to make 4 and 9. \n",
    "* X can be placed before L (50) and C (100) to make 40 and 90. \n",
    "* C can be placed before D (500) and M (1000) to make 400 and 900.\n",
    "* Given an integer, convert it to a roman numeral.\n",
    "\n",
    " \n",
    "\n",
    "## Example 1:\n",
    "\n",
    "```python\n",
    "Input: num = 3\n",
    "Output: \"III\"\n",
    "Explanation: 3 is represented as 3 ones.\n",
    "```\n",
    "## Example 2:\n",
    "```python\n",
    "Input: num = 58\n",
    "Output: \"LVIII\"\n",
    "Explanation: L = 50, V = 5, III = 3.\n",
    "```\n",
    "## Example 3:\n",
    "```python\n",
    "Input: num = 1994\n",
    "Output: \"MCMXCIV\"\n",
    "Explanation: M = 1000, CM = 900, XC = 90 and IV = 4.\n",
    "```\n",
    "\n",
    "## Constraints:\n",
    "```python\n",
    "1 <= num <= 3999\n",
    "```"
   ]
  },
  {
   "cell_type": "code",
   "execution_count": 23,
   "id": "f43d64cf",
   "metadata": {},
   "outputs": [],
   "source": [
    "def intToRoman(num: int) -> str:\n",
    "    numeral = \"\"\n",
    "    nums = [1000, 900, 500, 400, 100, 90, 50, 40, 10, 9, 5, 4, 1]\n",
    "    roman = [\"M\", \"CM\", \"D\", \"CD\", \"C\", \"XC\", \"L\", \"XL\", \"X\", \"IX\", \"V\", \"IV\", \"I\"]\n",
    "    for i,n in enumerate(nums):\n",
    "        while num >= n:\n",
    "            numeral += roman[i]\n",
    "            num -= n\n",
    "    return numeral"
   ]
  },
  {
   "cell_type": "code",
   "execution_count": 27,
   "id": "f5d42b01",
   "metadata": {},
   "outputs": [],
   "source": [
    "def intToRoman(num: int) -> str:\n",
    "    lib = {\n",
    "        1000: 'M',\n",
    "        900: 'CM',\n",
    "        500: 'D',\n",
    "        400: 'CD',\n",
    "        100: 'C',\n",
    "        90: 'XC',\n",
    "        50: 'L',\n",
    "        40: 'XL',\n",
    "        10: 'X',\n",
    "        9: 'IX',\n",
    "        5: 'V',\n",
    "        4: 'IV',\n",
    "        1: 'I'\n",
    "    }\n",
    "    ans = \"\"\n",
    "    for k, v in lib.items():\n",
    "        while k <= num:\n",
    "            ans += v\n",
    "            num -= k\n",
    "    return ans"
   ]
  },
  {
   "cell_type": "code",
   "execution_count": 28,
   "id": "0fe2bff6",
   "metadata": {},
   "outputs": [
    {
     "data": {
      "text/plain": [
       "'XLIX'"
      ]
     },
     "execution_count": 28,
     "metadata": {},
     "output_type": "execute_result"
    }
   ],
   "source": [
    "intToRoman(49)"
   ]
  },
  {
   "cell_type": "code",
   "execution_count": 29,
   "id": "b1aedf12",
   "metadata": {},
   "outputs": [
    {
     "data": {
      "text/plain": [
       "''"
      ]
     },
     "execution_count": 29,
     "metadata": {},
     "output_type": "execute_result"
    }
   ],
   "source": [
    "intToRoman(0)"
   ]
  },
  {
   "cell_type": "code",
   "execution_count": null,
   "id": "9faa3b65",
   "metadata": {},
   "outputs": [],
   "source": []
  }
 ],
 "metadata": {
  "kernelspec": {
   "display_name": "Python 3",
   "language": "python",
   "name": "python3"
  },
  "language_info": {
   "codemirror_mode": {
    "name": "ipython",
    "version": 3
   },
   "file_extension": ".py",
   "mimetype": "text/x-python",
   "name": "python",
   "nbconvert_exporter": "python",
   "pygments_lexer": "ipython3",
   "version": "3.8.8"
  }
 },
 "nbformat": 4,
 "nbformat_minor": 5
}
