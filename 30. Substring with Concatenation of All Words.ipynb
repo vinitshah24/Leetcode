{
 "cells": [
  {
   "cell_type": "markdown",
   "id": "f2efed80",
   "metadata": {},
   "source": [
    "## You are given a string s and an array of strings words of the same length. Return all starting indices of substring(s) in s that is a concatenation of each word in words exactly once, in any order, and without any intervening characters.\n",
    "\n",
    "You can return the answer in any order.\n",
    "\n",
    "## Example 1:\n",
    "```python\n",
    "Input: s = \"barfoothefoobarman\", words = [\"foo\",\"bar\"]\n",
    "Output: [0,9]\n",
    "Explanation: Substrings starting at index 0 and 9 are \"barfoo\" and \"foobar\" respectively.\n",
    "The output order does not matter, returning [9,0] is fine too.\n",
    "```\n",
    "\n",
    "## Example 2:\n",
    "```python\n",
    "Input: s = \"wordgoodgoodgoodbestword\", words = [\"word\",\"good\",\"best\",\"word\"]\n",
    "Output: []\n",
    "```\n",
    "\n",
    "## Example 3:\n",
    "```python\n",
    "Input: s = \"barfoofoobarthefoobarman\", words = [\"bar\",\"foo\",\"the\"]\n",
    "Output: [6,9,12]\n",
    "```\n",
    "\n",
    "## Constraints:\n",
    "```python\n",
    "1 <= s.length <= 104\n",
    "s consists of lower-case English letters.\n",
    "1 <= words.length <= 5000\n",
    "1 <= words[i].length <= 30\n",
    "words[i] consists of lower-case English letters.\n",
    "```"
   ]
  },
  {
   "cell_type": "code",
   "execution_count": 2,
   "id": "b600b428",
   "metadata": {},
   "outputs": [],
   "source": [
    "def findSubstring(s, words_list):\n",
    "    # If string is empty or words_list_list is empty\n",
    "    if not s or not words_list:\n",
    "        return []\n",
    "    # If string is equal to 1 word list\n",
    "    if len(words_list) == 1 and s == words_list[0]:\n",
    "        return [0]\n",
    "    word_len = len(words_list[0])\n",
    "    words_total_len = word_len * len(words_list)\n",
    "    words_list = sorted(words_list)\n",
    "    print(words_list)\n",
    "    res = []\n",
    "    for i in range(0, len(s) - word_len):\n",
    "        st = s[i:i + words_total_len]\n",
    "        if len(st) < words_total_len:\n",
    "            break\n",
    "        a = []\n",
    "        for j in range(0, len(st), word_len):\n",
    "            a.append(st[j:j + word_len])\n",
    "        if sorted(a) == words_list:\n",
    "            res.append(i)\n",
    "    return res"
   ]
  },
  {
   "cell_type": "code",
   "execution_count": 3,
   "id": "83ed90c3",
   "metadata": {},
   "outputs": [
    {
     "data": {
      "text/plain": [
       "[0, 9]"
      ]
     },
     "execution_count": 3,
     "metadata": {},
     "output_type": "execute_result"
    }
   ],
   "source": [
    "s = \"barfoothefoobarman\"\n",
    "words = [\"foo\", \"bar\"]\n",
    "findSubstring(s, words)"
   ]
  },
  {
   "cell_type": "code",
   "execution_count": 4,
   "id": "b9f359dd",
   "metadata": {},
   "outputs": [
    {
     "data": {
      "text/plain": [
       "[]"
      ]
     },
     "execution_count": 4,
     "metadata": {},
     "output_type": "execute_result"
    }
   ],
   "source": [
    "s = \"wordgoodgoodgoodbestword\"\n",
    "words = [\"word\", \"good\", \"best\", \"word\"]\n",
    "findSubstring(s, words)"
   ]
  },
  {
   "cell_type": "code",
   "execution_count": 5,
   "id": "485dc25e",
   "metadata": {},
   "outputs": [
    {
     "data": {
      "text/plain": [
       "[6, 9, 12]"
      ]
     },
     "execution_count": 5,
     "metadata": {},
     "output_type": "execute_result"
    }
   ],
   "source": [
    "s = \"barfoofoobarthefoobarman\"\n",
    "words = [\"bar\", \"foo\", \"the\"]\n",
    "findSubstring(s, words)"
   ]
  },
  {
   "cell_type": "code",
   "execution_count": null,
   "id": "b89b8882",
   "metadata": {},
   "outputs": [],
   "source": []
  }
 ],
 "metadata": {
  "kernelspec": {
   "display_name": "Python 3",
   "language": "python",
   "name": "python3"
  },
  "language_info": {
   "codemirror_mode": {
    "name": "ipython",
    "version": 3
   },
   "file_extension": ".py",
   "mimetype": "text/x-python",
   "name": "python",
   "nbconvert_exporter": "python",
   "pygments_lexer": "ipython3",
   "version": "3.8.8"
  }
 },
 "nbformat": 4,
 "nbformat_minor": 5
}
