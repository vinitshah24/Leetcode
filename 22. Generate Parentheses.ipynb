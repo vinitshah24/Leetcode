{
 "cells": [
  {
   "cell_type": "markdown",
   "id": "d9c45dc5",
   "metadata": {},
   "source": [
    "## Given n pairs of parentheses, write a function to generate all combinations of well-formed parentheses.\n",
    "\n",
    "## Example 1:\n",
    "```python\n",
    "Input: n = 3\n",
    "Output: [\"((()))\",\"(()())\",\"(())()\",\"()(())\",\"()()()\"]\n",
    "```\n",
    "\n",
    "## Example 2:\n",
    "```python\n",
    "Input: n = 1\n",
    "Output: [\"()\"]\n",
    "```\n",
    "\n",
    "## Constraints:\n",
    "```python\n",
    "1 <= n <= 8\n",
    "```"
   ]
  },
  {
   "cell_type": "code",
   "execution_count": 4,
   "id": "8af03a01",
   "metadata": {},
   "outputs": [],
   "source": [
    "def generateParenthesis(n: int):\n",
    "    stack = []\n",
    "    res = []\n",
    "\n",
    "    def backtrack(open_num, closed_num):\n",
    "        \"\"\" Pass open parentheses and closed parentheses count \"\"\"\n",
    "        # Base Case => Stop when the open and closed parenthses are equal to n\n",
    "        if open_num == closed_num == n:\n",
    "            res.append(\"\".join(stack))\n",
    "            return\n",
    "        if open_num < n:\n",
    "            stack.append(\"(\")\n",
    "            backtrack(open_num + 1, closed_num)\n",
    "            # Only gets executed when base case is reached => remove it from stack\n",
    "            stack.pop()\n",
    "        if closed_num < open_num:\n",
    "            stack.append(\")\")\n",
    "            backtrack(open_num, closed_num + 1)\n",
    "            # Only gets executed when base case is reached => remove it from stack\n",
    "            stack.pop()\n",
    "\n",
    "    backtrack(0, 0)\n",
    "    return res"
   ]
  },
  {
   "cell_type": "code",
   "execution_count": 5,
   "id": "d82797bf",
   "metadata": {},
   "outputs": [
    {
     "data": {
      "text/plain": [
       "['((()))', '(()())', '(())()', '()(())', '()()()']"
      ]
     },
     "execution_count": 5,
     "metadata": {},
     "output_type": "execute_result"
    }
   ],
   "source": [
    "generateParenthesis(3)"
   ]
  },
  {
   "cell_type": "code",
   "execution_count": 6,
   "id": "53d43295",
   "metadata": {},
   "outputs": [
    {
     "data": {
      "text/plain": [
       "['()']"
      ]
     },
     "execution_count": 6,
     "metadata": {},
     "output_type": "execute_result"
    }
   ],
   "source": [
    "generateParenthesis(1)"
   ]
  },
  {
   "cell_type": "markdown",
   "id": "e8b3ad76",
   "metadata": {},
   "source": [
    "* Start with N left brackets and N right brackets.\n",
    "* Add one left bracket to string if left > 0; add one right bracket to string if more right brackets remaining than left bracket. \n",
    "* When no left and right brackets remaining, add string to result."
   ]
  },
  {
   "cell_type": "code",
   "execution_count": 8,
   "id": "513f0674",
   "metadata": {},
   "outputs": [],
   "source": [
    "def generateParenthesis(n: int):\n",
    "    res = []\n",
    "    def dfs(curr, left, right):\n",
    "        if left == 0 and right == 0:\n",
    "            res.append(curr)\n",
    "        if left > 0:\n",
    "            dfs(curr + \"(\", left-1, right)\n",
    "        if right > left:\n",
    "            dfs(curr + \")\", left, right-1)\n",
    "    dfs(\"\", n, n)\n",
    "    return res"
   ]
  },
  {
   "cell_type": "code",
   "execution_count": 9,
   "id": "3d68cce7",
   "metadata": {},
   "outputs": [
    {
     "data": {
      "text/plain": [
       "['((()))', '(()())', '(())()', '()(())', '()()()']"
      ]
     },
     "execution_count": 9,
     "metadata": {},
     "output_type": "execute_result"
    }
   ],
   "source": [
    "generateParenthesis(3)"
   ]
  },
  {
   "cell_type": "code",
   "execution_count": 10,
   "id": "4a7c53fd",
   "metadata": {},
   "outputs": [
    {
     "data": {
      "text/plain": [
       "['()']"
      ]
     },
     "execution_count": 10,
     "metadata": {},
     "output_type": "execute_result"
    }
   ],
   "source": [
    "generateParenthesis(1)"
   ]
  },
  {
   "cell_type": "code",
   "execution_count": null,
   "id": "2f2bbe2d",
   "metadata": {},
   "outputs": [],
   "source": []
  }
 ],
 "metadata": {
  "kernelspec": {
   "display_name": "Python 3",
   "language": "python",
   "name": "python3"
  },
  "language_info": {
   "codemirror_mode": {
    "name": "ipython",
    "version": 3
   },
   "file_extension": ".py",
   "mimetype": "text/x-python",
   "name": "python",
   "nbconvert_exporter": "python",
   "pygments_lexer": "ipython3",
   "version": "3.8.8"
  }
 },
 "nbformat": 4,
 "nbformat_minor": 5
}
