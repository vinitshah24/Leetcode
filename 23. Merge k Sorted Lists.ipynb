{
 "cells": [
  {
   "cell_type": "markdown",
   "id": "c839e2e4",
   "metadata": {},
   "source": [
    "## You are given an array of k linked-lists lists, each linked-list is sorted in ascending order.\n",
    "\n",
    "Merge all the linked-lists into one sorted linked-list and return it.\n",
    "\n",
    "## Example 1:\n",
    "```python\n",
    "Input: lists = [[1,4,5],[1,3,4],[2,6]]\n",
    "Output: [1,1,2,3,4,4,5,6]\n",
    "Explanation: The linked-lists are:\n",
    "[\n",
    "  1->4->5,\n",
    "  1->3->4,\n",
    "  2->6\n",
    "]\n",
    "merging them into one sorted list:\n",
    "1->1->2->3->4->4->5->6\n",
    "```\n",
    "## Example 2:\n",
    "```python\n",
    "Input: lists = []\n",
    "Output: []\n",
    "```\n",
    "\n",
    "## Example 3:\n",
    "```python\n",
    "Input: lists = [[]]\n",
    "Output: []\n",
    "```\n",
    "\n",
    "## Constraints:\n",
    "```python\n",
    "k == lists.length\n",
    "0 <= k <= 10^4\n",
    "0 <= lists[i].length <= 500\n",
    "-10^4 <= lists[i][j] <= 10^4\n",
    "lists[i] is sorted in ascending order.\n",
    "The sum of lists[i].length won't exceed 10^4.\n",
    "```"
   ]
  },
  {
   "cell_type": "code",
   "execution_count": 1,
   "id": "49684b3b",
   "metadata": {},
   "outputs": [],
   "source": [
    "class ListNode:\n",
    "    def __init__(self, val=0, next=None):\n",
    "        self.val = val\n",
    "        self.next = next"
   ]
  },
  {
   "cell_type": "code",
   "execution_count": 2,
   "id": "87e6719c",
   "metadata": {},
   "outputs": [],
   "source": [
    "def mergeKLists(lists):\n",
    "    nodes = []\n",
    "    head = point = ListNode(0)\n",
    "    for l_node in lists:\n",
    "        while l_node:\n",
    "            nodes.append(l_node.val)\n",
    "            l_node = l_node.next\n",
    "    print(nodes)\n",
    "    for x in sorted(nodes):\n",
    "        point.next = ListNode(x)\n",
    "        point = point.next\n",
    "    return head.next"
   ]
  },
  {
   "cell_type": "code",
   "execution_count": 3,
   "id": "6aa9de34",
   "metadata": {},
   "outputs": [
    {
     "name": "stdout",
     "output_type": "stream",
     "text": [
      "[1, 4, 5, 1, 3, 4, 2, 6]\n",
      "1\n",
      "1\n",
      "2\n",
      "3\n",
      "4\n",
      "4\n",
      "5\n",
      "6\n"
     ]
    }
   ],
   "source": [
    "# [[1,4,5],[1,3,4],[2,6]]\n",
    "\n",
    "list1 = ListNode(1, ListNode(4, ListNode(5)))\n",
    "list2 = ListNode(1, ListNode(3, ListNode(4)))\n",
    "list3 = ListNode(2, ListNode(6))\n",
    "                 \n",
    "lists = [list1, list2, list3]\n",
    "sorted_node = mergeKLists(lists)\n",
    "\n",
    "curr = sorted_node\n",
    "while curr:\n",
    "    print(curr.val)\n",
    "    curr = curr.next"
   ]
  },
  {
   "cell_type": "markdown",
   "id": "59c7261b",
   "metadata": {},
   "source": [
    "## Complexity Analysis\n",
    "\n",
    "* **Time complexity : O(NlogN) where NN is the total number of nodes.**\n",
    "    * Collecting all the values costs O(N) time.\n",
    "    * A stable sorting algorithm costs (NlogN) time.\n",
    "    * Iterating for creating the linked list costs O(N time.\n",
    "\n",
    "\n",
    "* **Space complexity : O(N)**\n",
    "    * Sorting cost O(N) space (depends on the algorithm you choose).\n",
    "    * Creating a new linked list costs O(N) space."
   ]
  },
  {
   "cell_type": "code",
   "execution_count": null,
   "id": "9dbd6160",
   "metadata": {},
   "outputs": [],
   "source": []
  }
 ],
 "metadata": {
  "kernelspec": {
   "display_name": "Python 3",
   "language": "python",
   "name": "python3"
  },
  "language_info": {
   "codemirror_mode": {
    "name": "ipython",
    "version": 3
   },
   "file_extension": ".py",
   "mimetype": "text/x-python",
   "name": "python",
   "nbconvert_exporter": "python",
   "pygments_lexer": "ipython3",
   "version": "3.8.8"
  }
 },
 "nbformat": 4,
 "nbformat_minor": 5
}
