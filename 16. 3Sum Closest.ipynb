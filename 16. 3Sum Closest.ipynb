{
 "cells": [
  {
   "cell_type": "markdown",
   "id": "a6b7b100",
   "metadata": {},
   "source": [
    "## Given an integer array nums of length n and an integer target, find three integers in nums such that the sum is closest to target.\n",
    "\n",
    "Return the sum of the three integers.\n",
    "\n",
    "You may assume that each input would have exactly one solution.\n",
    "\n",
    "## Example 1:\n",
    "```python\n",
    "Input: nums = [-1,2,1,-4], target = 1\n",
    "Output: 2\n",
    "Explanation: The sum that is closest to the target is 2. (-1 + 2 + 1 = 2).\n",
    "```\n",
    "\n",
    "## Example 2:\n",
    "```python\n",
    "Input: nums = [0,0,0], target = 1\n",
    "Output: 0\n",
    "```\n",
    "## Constraints:\n",
    "```python\n",
    "3 <= nums.length <= 1000\n",
    "-1000 <= nums[i] <= 1000\n",
    "-104 <= target <= 104\n",
    "```"
   ]
  },
  {
   "cell_type": "code",
   "execution_count": 1,
   "id": "fbd3c629",
   "metadata": {},
   "outputs": [],
   "source": [
    "def threeSumClosest(num_arr, target) -> int:\n",
    "    res = num_arr[0] + num_arr[1] + num_arr[2]\n",
    "    num_arr.sort()\n",
    "    for i in range(len(num_arr) - 2):\n",
    "        if i > 0 and num_arr[i - 1] == num_arr[i]:\n",
    "            continue\n",
    "        l = i + 1\n",
    "        r = len(num_arr) - 1\n",
    "        while l < r:\n",
    "            three_sum = num_arr[i] + num_arr[l] + num_arr[r]\n",
    "            if abs(three_sum - target) < abs(res - target):\n",
    "                res = three_sum\n",
    "            # If sum is less than target, increase left pointer\n",
    "            if three_sum < target:\n",
    "                # If the next value in array is same, then skip it and increase left pointer\n",
    "                while l + 1 < r and num_arr[l] == num_arr[l + 1]:\n",
    "                    l += 1\n",
    "                l += 1\n",
    "            # If sum is greater than target, reduce right pointer\n",
    "            elif three_sum > target:\n",
    "                # If the next value in array is same, then skip it and decrease right pointer\n",
    "                while r - 1 > l and num_arr[r] == num_arr[r - 1]:\n",
    "                    r -= 1\n",
    "                r -= 1\n",
    "            else:\n",
    "                return target\n",
    "    return res"
   ]
  },
  {
   "cell_type": "code",
   "execution_count": 2,
   "id": "262eb57d",
   "metadata": {},
   "outputs": [
    {
     "data": {
      "text/plain": [
       "2"
      ]
     },
     "execution_count": 2,
     "metadata": {},
     "output_type": "execute_result"
    }
   ],
   "source": [
    "nums = [-1,2,1,-4]\n",
    "target = 1\n",
    "threeSumClosest(nums, target)"
   ]
  },
  {
   "cell_type": "code",
   "execution_count": 3,
   "id": "cc049061",
   "metadata": {},
   "outputs": [
    {
     "data": {
      "text/plain": [
       "0"
      ]
     },
     "execution_count": 3,
     "metadata": {},
     "output_type": "execute_result"
    }
   ],
   "source": [
    "nums = [0,0,0]\n",
    "target = 1\n",
    "threeSumClosest(nums, target)"
   ]
  },
  {
   "cell_type": "code",
   "execution_count": 4,
   "id": "2fe9a7cb",
   "metadata": {},
   "outputs": [
    {
     "data": {
      "text/plain": [
       "2"
      ]
     },
     "execution_count": 4,
     "metadata": {},
     "output_type": "execute_result"
    }
   ],
   "source": [
    "nums = [1,1,1,0]\n",
    "target = -100\n",
    "threeSumClosest(nums, target)"
   ]
  },
  {
   "cell_type": "code",
   "execution_count": null,
   "id": "4780ea38",
   "metadata": {},
   "outputs": [],
   "source": []
  },
  {
   "cell_type": "code",
   "execution_count": null,
   "id": "287dd7b2",
   "metadata": {},
   "outputs": [],
   "source": []
  }
 ],
 "metadata": {
  "kernelspec": {
   "display_name": "Python 3",
   "language": "python",
   "name": "python3"
  },
  "language_info": {
   "codemirror_mode": {
    "name": "ipython",
    "version": 3
   },
   "file_extension": ".py",
   "mimetype": "text/x-python",
   "name": "python",
   "nbconvert_exporter": "python",
   "pygments_lexer": "ipython3",
   "version": "3.8.8"
  }
 },
 "nbformat": 4,
 "nbformat_minor": 5
}
