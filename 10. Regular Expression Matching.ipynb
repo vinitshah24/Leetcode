{
 "cells": [
  {
   "cell_type": "markdown",
   "id": "5a07fd39",
   "metadata": {},
   "source": [
    "## Given an input string s and a pattern p, implement regular expression matching with support for '.' and '*' where:\n",
    "\n",
    "* (.) => Matches any single character.\n",
    "* (*) => Matches zero or more of the preceding element.\n",
    "* The matching should cover the entire input string (not partial).\n",
    "\n",
    "\n",
    "## Example 1:\n",
    "```python\n",
    "Input: s = \"aa\", p = \"a\"\n",
    "Output: false\n",
    "Explanation: \"a\" does not match the entire string \"aa\".\n",
    "```\n",
    "\n",
    "## Example 2:\n",
    "```python\n",
    "Input: s = \"aa\", p = \"a*\"\n",
    "Output: true\n",
    "Explanation: '*' means zero or more of the preceding element, 'a'. Therefore, by repeating 'a' once, it becomes \"aa\".\n",
    "```\n",
    "\n",
    "## Example 3:\n",
    "```python\n",
    "Input: s = \"ab\", p = \".*\"\n",
    "Output: true\n",
    "Explanation: \".*\" means \"zero or more (*) of any character (.)\".\n",
    "```\n",
    "\n",
    "## Constraints:\n",
    "* 1 <= s.length <= 20\n",
    "* 1 <= p.length <= 30\n",
    "* s contains only lowercase English letters.\n",
    "* p contains only lowercase English letters, '.', and '*'.\n",
    "* It is guaranteed for each appearance of the character '*', there will be a previous valid character to match."
   ]
  },
  {
   "cell_type": "code",
   "execution_count": 1,
   "id": "dcadd315",
   "metadata": {},
   "outputs": [],
   "source": [
    "def is_match(text, pattern):\n",
    "    if not pattern:\n",
    "        return not text\n",
    "    # REGEX => .\n",
    "    first_match = bool(text) and pattern[0] in {text[0], '.'}\n",
    "    # REGEX => *\n",
    "    if len(pattern) >= 2 and pattern[1] == '*':\n",
    "        return (is_match(text, pattern[2:]) or first_match and is_match(text[1:], pattern))\n",
    "    else:\n",
    "        # REGEX => .\n",
    "        return first_match and is_match(text[1:], pattern[1:])"
   ]
  },
  {
   "cell_type": "code",
   "execution_count": 3,
   "id": "ce7460df",
   "metadata": {},
   "outputs": [
    {
     "data": {
      "text/plain": [
       "False"
      ]
     },
     "execution_count": 3,
     "metadata": {},
     "output_type": "execute_result"
    }
   ],
   "source": [
    "is_match(\"aa\", \"a\")"
   ]
  },
  {
   "cell_type": "code",
   "execution_count": 4,
   "id": "a5e0db6c",
   "metadata": {},
   "outputs": [
    {
     "data": {
      "text/plain": [
       "True"
      ]
     },
     "execution_count": 4,
     "metadata": {},
     "output_type": "execute_result"
    }
   ],
   "source": [
    "is_match(\"aa\", \"a*\")"
   ]
  },
  {
   "cell_type": "code",
   "execution_count": 6,
   "id": "6bfa0862",
   "metadata": {},
   "outputs": [
    {
     "data": {
      "text/plain": [
       "True"
      ]
     },
     "execution_count": 6,
     "metadata": {},
     "output_type": "execute_result"
    }
   ],
   "source": [
    "is_match(\"ab\", \".*\")"
   ]
  },
  {
   "cell_type": "code",
   "execution_count": null,
   "id": "5eb1145e",
   "metadata": {},
   "outputs": [],
   "source": []
  }
 ],
 "metadata": {
  "kernelspec": {
   "display_name": "Python 3",
   "language": "python",
   "name": "python3"
  },
  "language_info": {
   "codemirror_mode": {
    "name": "ipython",
    "version": 3
   },
   "file_extension": ".py",
   "mimetype": "text/x-python",
   "name": "python",
   "nbconvert_exporter": "python",
   "pygments_lexer": "ipython3",
   "version": "3.8.8"
  }
 },
 "nbformat": 4,
 "nbformat_minor": 5
}
